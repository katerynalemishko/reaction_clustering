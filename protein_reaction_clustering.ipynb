{
 "cells": [
  {
   "cell_type": "markdown",
   "id": "modified-america",
   "metadata": {},
   "source": [
    "# Molecule unfolding: K-means clustering of experimental data"
   ]
  },
  {
   "cell_type": "markdown",
   "id": "micro-heath",
   "metadata": {},
   "source": [
    "In this notebook we will describe the analysis procedure based on K-means clustering that can be used to follow different steps \n",
    "in the reaction of unfolding of protein molecules. \n",
    "\n",
    "This method can be also used to analyse data from other reactions involving polymer molecules. "
   ]
  },
  {
   "cell_type": "code",
   "execution_count": 1,
   "id": "mounted-patient",
   "metadata": {},
   "outputs": [],
   "source": [
    "# Necessary imports\n",
    "import pandas as pd\n",
    "import matplotlib.pyplot as plt\n",
    "import numpy as np\n",
    "\n",
    "# Ignore warnings\n",
    "import warnings\n",
    "warnings.filterwarnings('ignore')\n",
    "\n",
    "# Load data into a dataframe\n",
    "trace=pd.read_excel('trace.xlsx')"
   ]
  },
  {
   "cell_type": "code",
   "execution_count": 2,
   "id": "japanese-association",
   "metadata": {},
   "outputs": [
    {
     "data": {
      "text/html": [
       "<div>\n",
       "<style scoped>\n",
       "    .dataframe tbody tr th:only-of-type {\n",
       "        vertical-align: middle;\n",
       "    }\n",
       "\n",
       "    .dataframe tbody tr th {\n",
       "        vertical-align: top;\n",
       "    }\n",
       "\n",
       "    .dataframe thead th {\n",
       "        text-align: right;\n",
       "    }\n",
       "</style>\n",
       "<table border=\"1\" class=\"dataframe\">\n",
       "  <thead>\n",
       "    <tr style=\"text-align: right;\">\n",
       "      <th></th>\n",
       "      <th>time</th>\n",
       "      <th>length</th>\n",
       "      <th>force</th>\n",
       "    </tr>\n",
       "  </thead>\n",
       "  <tbody>\n",
       "    <tr>\n",
       "      <th>0</th>\n",
       "      <td>32.2704</td>\n",
       "      <td>-2.57971</td>\n",
       "      <td>4.36977</td>\n",
       "    </tr>\n",
       "    <tr>\n",
       "      <th>1</th>\n",
       "      <td>32.2767</td>\n",
       "      <td>2.15869</td>\n",
       "      <td>4.36977</td>\n",
       "    </tr>\n",
       "    <tr>\n",
       "      <th>2</th>\n",
       "      <td>32.2829</td>\n",
       "      <td>-1.49097</td>\n",
       "      <td>4.36977</td>\n",
       "    </tr>\n",
       "    <tr>\n",
       "      <th>3</th>\n",
       "      <td>32.2892</td>\n",
       "      <td>0.81958</td>\n",
       "      <td>4.36977</td>\n",
       "    </tr>\n",
       "    <tr>\n",
       "      <th>4</th>\n",
       "      <td>32.2954</td>\n",
       "      <td>-2.87012</td>\n",
       "      <td>4.36977</td>\n",
       "    </tr>\n",
       "  </tbody>\n",
       "</table>\n",
       "</div>"
      ],
      "text/plain": [
       "      time   length    force\n",
       "0  32.2704 -2.57971  4.36977\n",
       "1  32.2767  2.15869  4.36977\n",
       "2  32.2829 -1.49097  4.36977\n",
       "3  32.2892  0.81958  4.36977\n",
       "4  32.2954 -2.87012  4.36977"
      ]
     },
     "execution_count": 2,
     "metadata": {},
     "output_type": "execute_result"
    }
   ],
   "source": [
    "# Check the first few lows of the data\n",
    "trace.head()"
   ]
  },
  {
   "cell_type": "markdown",
   "id": "third-centre",
   "metadata": {},
   "source": [
    "A typical experimental data contains recordered data points stored in the following three columns:\\\n",
    "    \n",
    "**time** is the number of seconds passed since the start of the recording\\\n",
    "    \n",
    "**length** is the current length or extension of the molecule in nanometers\\\n",
    "    \n",
    "**force** is the force in picoNewtons  with wchich the molecule is being pulled on. "
   ]
  },
  {
   "cell_type": "markdown",
   "id": "forward-allah",
   "metadata": {},
   "source": [
    "\n",
    "We can visualize how the length of the protein molecule changes with time during the course of the experiment\n",
    "by plotting the length timeseries."
   ]
  },
  {
   "cell_type": "code",
   "execution_count": 3,
   "id": "precise-walnut",
   "metadata": {},
   "outputs": [
    {
     "data": {
      "image/png": "[encoded data removed]",
      "text/plain": [
       "<Figure size 1152x288 with 2 Axes>"
      ]
     },
     "metadata": {
      "needs_background": "light"
     },
     "output_type": "display_data"
    }
   ],
   "source": [
    "# Plot the protein length time series\n",
    "f,ax=plt.subplots(1,2,figsize=(16,4))\n",
    "ax[0].plot(trace['time'],trace['length'])\n",
    "ax[0].set_ylabel(\"Molecule's length (nm)\",fontsize=16)\n",
    "ax[0].set_xlabel('time (s)',fontsize=16)\n",
    "ax[1].plot(trace['time'],trace['force'],color='r')\n",
    "ax[1].set_ylabel('Force (pN)',fontsize=16)\n",
    "ax[1].set_xlabel('time (s)',fontsize=16)\n",
    "plt.show()"
   ]
  },
  {
   "cell_type": "markdown",
   "id": "african-proposition",
   "metadata": {},
   "source": [
    "In this experiment, we used a polyprotein molecule consisting of several identical domains joined in a chain.\n",
    "\n",
    "When we pull on a protein molecule with a certain force, we can gradually unfold the polyprotein molecule domain by domain.\n",
    "\n",
    "This is why we see different steps (or levels) of molecule's length - as we increase the force at wich we pull from 4.2 to 10.8\n",
    "picoNewton (subplot on the right), the length of the molecule increases step by step till 140 nanometers (subplot on the left).\n",
    "Every step here corresponds to an unfolding of one protein domain. \n",
    "\n",
    "When afterwards we decreased the force to low values (around time=75 seconds, subplot on the right), you can see the length \n",
    "steps again, but this time they are going down - the molecule length decreases. This step by step molecule length change \n",
    "corresponds to the gradual folding of the previously unfolded protein domains - each step corresponds to one domain.\n",
    "\n",
    "Finally, when we increased the pulling force again at the time around 120 seconds (right subplot), you can see the\n",
    "unfolding steps again (subplot on the left)"
   ]
  },
  {
   "cell_type": "markdown",
   "id": "former-manufacturer",
   "metadata": {},
   "source": [
    "## Cluster molecule's length data and find domains centroids"
   ]
  },
  {
   "cell_type": "markdown",
   "id": "infectious-conclusion",
   "metadata": {},
   "source": [
    "Let's first take a closer look at the part of the data when we unfolded the molecule for the first time."
   ]
  },
  {
   "cell_type": "code",
   "execution_count": 4,
   "id": "planned-colleague",
   "metadata": {},
   "outputs": [
    {
     "data": {
      "image/png": "[encoded data removed]",
      "text/plain": [
       "<Figure size 432x288 with 1 Axes>"
      ]
     },
     "metadata": {
      "needs_background": "light"
     },
     "output_type": "display_data"
    }
   ],
   "source": [
    "# Plot first unfolding cycle\n",
    "unfold1=trace[(trace.time>30)&(trace.time<60)]\n",
    "plt.plot(unfold1['time'],unfold1['length'])\n",
    "plt.show()"
   ]
  },
  {
   "cell_type": "markdown",
   "id": "different-winning",
   "metadata": {},
   "source": [
    "You can notice that till the the second 35 the mollecule was completely folded - the length oscilated around 0 \n",
    "nanometers.\n",
    "\n",
    "Afterwards, there were 5 steps upstairs: one larger step from 0 to approximately 40 nm, followed by four more steps\n",
    "of a similar size.\n",
    "\n",
    "The first larger step here corresponds to the stretching of the molecule from a tangle to an extendeded form,and the four smaller step correspond to the unfolding of four identical protein domains joined into a chain.\n",
    "\n",
    "We can see that, finally, when the fourd domains are unfold and the molecule is fully extended, its length reaches \n",
    "approximately 130 nm.\n",
    "\n",
    "The goal of the analysis described in this notebook is to perform K-means clustering to identify the clusters in the molecule's\n",
    "length data corresponding to different steps. As a results, we will be able to determine the length of each step, and thus,\n",
    "we will gain the information about the size of the unfolding domains.\n",
    "\n"
   ]
  },
  {
   "cell_type": "markdown",
   "id": "front-content",
   "metadata": {},
   "source": [
    "The K-means algorithm begins with a first group of randomly selected centroids, which are used as the starting points for every cluster, and then the algorithm performs iterative calculations to optimize the positions of the centroids.\n",
    "\n",
    "Accordingly, we will divide the algorithm in steps:\n",
    "\n",
    "**1.** Manual selection of the number of clusters, k, and random selection of k number of centroids for each cluster;\\\n",
    "\n",
    "**2.**  Assign all the points to the closest cluster centroid;\n",
    "\n",
    "**3.** Recompute centroids of newly formed clusters;\n",
    "\n",
    "**4.** Repeat steps **3** and **4** towards reducing the in-cluster sum of squares untill the difference between the previous and the current position of centroids is 0.\n",
    "\n",
    "\n",
    "Now, we will define three functions to perform K-means clustering of our data. The function **random_centroid** will select k number of random centroids for each of k clusters, the function **centroids** will perform the steps **2**, **3** and **4** of \n",
    "the algorithm, and the function **plot_clusters** will plot the obtained clusters in our data together with the clusters' optimized centoids.\n"
   ]
  },
  {
   "cell_type": "markdown",
   "id": "placed-company",
   "metadata": {},
   "source": [
    "### Define functions necessary for clustering"
   ]
  },
  {
   "cell_type": "code",
   "execution_count": 5,
   "id": "vertical-keyboard",
   "metadata": {},
   "outputs": [],
   "source": [
    "# Function that accepts the number of clusters (k) and selects random centroid for each cluster\n",
    "def random_centroid(K,df):\n",
    "    \n",
    "    \"\"\"This function accepts the number of \n",
    "    clasters and the name of the dataframe with\n",
    "    the protein the legth over time\n",
    "    and selects random centroids for each cluster\"\"\"\n",
    "    \n",
    "    #K-number of clusters\n",
    "    # Select random observation as centroids\n",
    "    random_centroids = (df.sample(n=K))\n",
    "    return random_centroids"
   ]
  },
  {
   "cell_type": "code",
   "execution_count": 6,
   "id": "multiple-tutorial",
   "metadata": {},
   "outputs": [],
   "source": [
    "# Function that assigns all the points to the closest cluster centroid and recomputes centroids of newly formed clusters\n",
    "def centroids(K,df,centroids):\n",
    "    \n",
    "    \"\"\"This function takes as an input the number of clusters,\n",
    "    the name of the data frame and the random clasters defined previously \n",
    "    and recomputes centroids of newly formed clusters\"\"\"\n",
    "    \n",
    "    diff = 1\n",
    "    j=0\n",
    "    \n",
    "   # We have initially defined the diff as 1 and inside the while loop, we are calculating this diff \n",
    "   # as the difference between the centroids in the previous iteration and the current iteration. \n",
    "    \n",
    "    while(diff!=0):   # We are stopping the training when the centroids are not changing after two iterations.\n",
    "        XD=df\n",
    "        i=1\n",
    "            \n",
    "        for index1,row_c in centroids.iterrows():\n",
    "            ED=[]\n",
    "            for index2,row_d in XD.iterrows():\n",
    "                d1=(row_c[\"time\"]-row_d[\"time\"])**2 #squared difference between x coordinate of random cluster and a current point\n",
    "                d2=(row_c[\"length\"]-row_d[\"length\"])**2 # squared difference between y coordinate of random cluster and a current point\n",
    "                d=np.sqrt(d1+d2) # square root error sum\n",
    "                ED.append(d)\n",
    "            df[i]=ED\n",
    "            i=i+1\n",
    "   \n",
    "        # Create a list of cluster positions \n",
    "        Clust=[]\n",
    "        for index,row in df.iterrows():\n",
    "            min_dist=row[1]\n",
    "            pos=1\n",
    "            for i in range(K):\n",
    "                 if row[i+1] < min_dist:\n",
    "                        min_dist = row[i+1]\n",
    "                        pos=i+1\n",
    "            Clust.append(pos)\n",
    "            \n",
    "        #  Create a column with the clsuter number  \n",
    "        df[\"Cluster\"]=Clust\n",
    "        centroids_new = df.groupby([\"Cluster\"]).mean()[[\"length\",\"time\"]]\n",
    "        \n",
    "\n",
    "        if j == 0:\n",
    "            diff=1\n",
    "            j=j+1\n",
    "        else:\n",
    "            # Calculate and print current difference\n",
    "            diff = (centroids_new['length'] - centroids['length']).sum() + (centroids_new['time'] - centroids['time']).sum()\n",
    "            print(diff.sum())\n",
    "            \n",
    "        # Final selected centroids \n",
    "        centroids = df.groupby([\"Cluster\"]).mean()[[\"length\",\"time\"]]\n",
    "    return centroids"
   ]
  },
  {
   "cell_type": "code",
   "execution_count": 7,
   "id": "ongoing-burke",
   "metadata": {},
   "outputs": [],
   "source": [
    "def plot_clusters(K,df, Centroids):\n",
    "    color=['blue','green','cyan','black','orange','purple','grey']\n",
    "    for k in range(K):\n",
    "        data=df[df[\"Cluster\"]==k+1]\n",
    "        plt.scatter(data[\"time\"],data[\"length\"],c=color[k])\n",
    "    plt.scatter(Centroids[\"time\"],Centroids[\"length\"],c='red')\n",
    "    plt.xlabel('time (s)')\n",
    "    plt.ylabel('length (nm)')\n",
    "    plt.show()"
   ]
  },
  {
   "cell_type": "markdown",
   "id": "educated-length",
   "metadata": {},
   "source": [
    "### Find clusters for diffent molecule domains  and their centroids for unfolding"
   ]
  },
  {
   "cell_type": "markdown",
   "id": "cubic-partition",
   "metadata": {},
   "source": [
    "Let's now take a look at how the molecule's length changed when it was pulled on for the second time."
   ]
  },
  {
   "cell_type": "code",
   "execution_count": 8,
   "id": "running-track",
   "metadata": {},
   "outputs": [
    {
     "data": {
      "image/png": "[encoded data removed]",
      "text/plain": [
       "<Figure size 432x288 with 1 Axes>"
      ]
     },
     "metadata": {
      "needs_background": "light"
     },
     "output_type": "display_data"
    }
   ],
   "source": [
    "# Define and plot data for the second unfolding\n",
    "unfold2=trace[(trace.time>122)&(trace.time<129)]\n",
    "plt.plot(unfold2['time'],unfold2['length'])\n",
    "plt.show()"
   ]
  },
  {
   "cell_type": "markdown",
   "id": "institutional-judge",
   "metadata": {},
   "source": [
    "We can observed that like in the first pulling, there were 5 steps upstairs: one larger step from 0 to approximately 40 nm, followed by four more steps of a similar size.\n",
    "\n",
    "We will now use our K-means clustering algorithm to find the six following clusters corresponding to the different steps \n",
    "in the reaction: the first cluster will define the initial length of the molecule, the second cluster will correspond to the step of extending the molecule from a tangle, and the third, the fourth, the fifth and the sixth clusters will correspond to the unfolding of the first,the second, the third and the fourth protein domains correspondingly. "
   ]
  },
  {
   "cell_type": "code",
   "execution_count": 9,
   "id": "signed-tracy",
   "metadata": {},
   "outputs": [],
   "source": [
    "# Select rendom cluster centroids for the second unfolding\n",
    "random_centroids=random_centroid(6,unfold2)"
   ]
  },
  {
   "cell_type": "code",
   "execution_count": 10,
   "id": "excess-value",
   "metadata": {},
   "outputs": [
    {
     "name": "stdout",
     "output_type": "stream",
     "text": [
      "0.39976995777650437\n",
      "0.24797802813047554\n",
      "0.1351011547298384\n",
      "0.13738116372876163\n",
      "0.2557577176287964\n",
      "0.19117918317370197\n",
      "0.09459128657744031\n",
      "0.1639318769947522\n",
      "0.14596324660506355\n",
      "0.22009719005519912\n",
      "0.15352736211804086\n",
      "0.10203225779800107\n",
      "0.10130460341997605\n",
      "0.10011866017710247\n",
      "0.048515998837700636\n",
      "0.048458459943589105\n",
      "0.0\n"
     ]
    }
   ],
   "source": [
    "# Recompute the centroids according to the k-meands algorithm\n",
    "Centroids=centroids(6,unfold2,random_centroids)"
   ]
  },
  {
   "cell_type": "code",
   "execution_count": 11,
   "id": "sealed-airfare",
   "metadata": {},
   "outputs": [
    {
     "data": {
      "image/png": "[encoded data removed]",
      "text/plain": [
       "<Figure size 432x288 with 1 Axes>"
      ]
     },
     "metadata": {
      "needs_background": "light"
     },
     "output_type": "display_data"
    }
   ],
   "source": [
    "# Plot the obtained clusters together with the centroids\n",
    "plot_clusters(6,unfold2,Centroids)"
   ]
  },
  {
   "cell_type": "markdown",
   "id": "sought-launch",
   "metadata": {},
   "source": [
    "You can see that the algorithm with randomly preselected initial centroids could not correctly identify the clusters corresponding to the six steps of the reaction. \n",
    "\n",
    "The algorithm unified the steps corresponding to the unfolding of the first two protein domains (the yellow cluster contains the steps of the unfolding of two domains intead of just one), instead the\n",
    "algorithm divided the second-last step into two clusters (the blue and the cyan clusters)."
   ]
  },
  {
   "cell_type": "markdown",
   "id": "bigger-nigeria",
   "metadata": {},
   "source": [
    "### Find clusters for diffent molecule domains  and their centroids for refolding"
   ]
  },
  {
   "cell_type": "markdown",
   "id": "handmade-lindsay",
   "metadata": {},
   "source": [
    "Let's now take a look at the refolding of the molecule."
   ]
  },
  {
   "cell_type": "code",
   "execution_count": 13,
   "id": "robust-manor",
   "metadata": {},
   "outputs": [
    {
     "data": {
      "image/png": "[encoded data removed]",
      "text/plain": [
       "<Figure size 432x288 with 1 Axes>"
      ]
     },
     "metadata": {
      "needs_background": "light"
     },
     "output_type": "display_data"
    }
   ],
   "source": [
    "#Define and plot data for the refolding\n",
    "refold1=trace[(trace.time>75)&(trace.time<84)]\n",
    "plt.plot(refold1['time'],refold1['length'])\n",
    "plt.show()"
   ]
  },
  {
   "cell_type": "markdown",
   "id": "steady-minority",
   "metadata": {},
   "source": [
    "We can see that when we relaxed the pulling force the molecule gradually folded back to its initial state.\n",
    "\n",
    "Let's now use the K-means clustering algorithm to identify different refolding reation steps."
   ]
  },
  {
   "cell_type": "code",
   "execution_count": 14,
   "id": "fifth-jumping",
   "metadata": {},
   "outputs": [],
   "source": [
    "# Select k random centroids \n",
    "random_centroids=random_centroid(6,refold1)"
   ]
  },
  {
   "cell_type": "code",
   "execution_count": 15,
   "id": "following-concern",
   "metadata": {},
   "outputs": [
    {
     "name": "stdout",
     "output_type": "stream",
     "text": [
      "9.449076124406533\n",
      "11.62205597277848\n",
      "19.57208536674951\n",
      "21.86334935562901\n",
      "5.930456716258697\n",
      "3.2960509544663594\n",
      "2.1544399153479574\n",
      "2.230516259919119\n",
      "1.861459359959416\n",
      "2.020510793649259\n",
      "1.8957412921237475\n",
      "2.454606584533713\n",
      "2.263537548053624\n",
      "1.9402355179201614\n",
      "1.885002997508142\n",
      "1.7777857148860168\n",
      "1.7940736110911448\n",
      "1.9439996849660517\n",
      "1.9784322732554536\n",
      "1.4867984711474627\n",
      "1.6596935020381887\n",
      "1.6302982274057172\n",
      "1.4532111837914066\n",
      "1.384849756453285\n",
      "1.3112432442945847\n",
      "0.6289014905764034\n",
      "0.8394533404836082\n",
      "0.9047456732239638\n",
      "0.6884741311422822\n",
      "0.585311675985448\n",
      "0.38523934834279316\n",
      "0.3835069891951619\n",
      "0.17610937331524212\n",
      "0.16412787296155784\n",
      "0.08745087828273768\n",
      "0.0839135930406627\n",
      "0.0\n"
     ]
    }
   ],
   "source": [
    "# Recompute the centroids according to the k-meands algorithm\n",
    "Centroids=centroids(6,refold1,random_centroids)"
   ]
  },
  {
   "cell_type": "code",
   "execution_count": 16,
   "id": "handy-substitute",
   "metadata": {},
   "outputs": [
    {
     "data": {
      "image/png": "[encoded data removed]",
      "text/plain": [
       "<Figure size 432x288 with 1 Axes>"
      ]
     },
     "metadata": {
      "needs_background": "light"
     },
     "output_type": "display_data"
    }
   ],
   "source": [
    "# Plot the obtained clusters together with their centorids\n",
    "plot_clusters(6,refold1,Centroids)"
   ]
  },
  {
   "cell_type": "markdown",
   "id": "broken-wednesday",
   "metadata": {},
   "source": [
    "We can see that the algorithm identified well the different steps in the refolding reaction too."
   ]
  },
  {
   "cell_type": "markdown",
   "id": "exotic-criticism",
   "metadata": {},
   "source": [
    "\n",
    "Finally, we will try to analyze the unfolding reaction occured when we pulled on the molecule the first time."
   ]
  },
  {
   "cell_type": "code",
   "execution_count": 17,
   "id": "right-singles",
   "metadata": {},
   "outputs": [],
   "source": [
    "random_centroids=random_centroid(6,unfold1)"
   ]
  },
  {
   "cell_type": "code",
   "execution_count": 18,
   "id": "interpreted-monday",
   "metadata": {},
   "outputs": [
    {
     "name": "stdout",
     "output_type": "stream",
     "text": [
      "-25.060321080656923\n",
      "-13.865651790026366\n",
      "-16.688116353320357\n",
      "-20.659793820894976\n",
      "-28.360150579767755\n",
      "-11.725199982091883\n",
      "-4.616206566997494\n",
      "-2.4176216747225983\n",
      "-1.8233900823920006\n",
      "-1.745916677330317\n",
      "-2.234184604020896\n",
      "-2.5528021808145525\n",
      "-3.471364853476608\n",
      "-5.018774792085935\n",
      "-4.982204256426925\n",
      "-3.988704467152594\n",
      "-3.2500737374882505\n",
      "-2.427009101348766\n",
      "-1.8526166476219563\n",
      "-2.121781955909105\n",
      "-1.779850008545913\n",
      "-1.9427338025542085\n",
      "-2.7672342038459914\n",
      "-4.132084152320658\n",
      "-5.455510608268238\n",
      "-7.105244205580821\n",
      "-8.886591212804714\n",
      "-8.421592339036675\n",
      "-3.9657404381290746\n",
      "-1.1364786514413936\n",
      "-0.4008839450893049\n",
      "-0.21771484243316053\n",
      "-0.1444462292633375\n",
      "-0.124164718949622\n",
      "0.0\n"
     ]
    }
   ],
   "source": [
    "Centroids=centroids(6,unfold1,random_centroids)"
   ]
  },
  {
   "cell_type": "code",
   "execution_count": 19,
   "id": "lovely-treasury",
   "metadata": {},
   "outputs": [
    {
     "data": {
      "image/png": "[encoded data removed]",
      "text/plain": [
       "<Figure size 432x288 with 1 Axes>"
      ]
     },
     "metadata": {
      "needs_background": "light"
     },
     "output_type": "display_data"
    }
   ],
   "source": [
    "plot_clusters(6,unfold1,Centroids)"
   ]
  },
  {
   "cell_type": "markdown",
   "id": "acquired-pillow",
   "metadata": {},
   "source": [
    "Oops... You can see that the K-means clustering with random selection of initial centroids was unable to identify\n",
    "the small cluster corresponding to the initial extension of the molecule (from 0 to 35 nm), instead it divided the last step\n",
    "into two clusters.\n",
    "\n",
    "Let's try to improve the algorith by manually assigning the approximate coordinates of the initial cluster centroids!"
   ]
  },
  {
   "cell_type": "markdown",
   "id": "connected-richards",
   "metadata": {},
   "source": [
    "### Improve the algorithm with an initial guess for centroids"
   ]
  },
  {
   "cell_type": "code",
   "execution_count": 20,
   "id": "handy-defense",
   "metadata": {},
   "outputs": [
    {
     "data": {
      "text/html": [
       "<div>\n",
       "<style scoped>\n",
       "    .dataframe tbody tr th:only-of-type {\n",
       "        vertical-align: middle;\n",
       "    }\n",
       "\n",
       "    .dataframe tbody tr th {\n",
       "        vertical-align: top;\n",
       "    }\n",
       "\n",
       "    .dataframe thead th {\n",
       "        text-align: right;\n",
       "    }\n",
       "</style>\n",
       "<table border=\"1\" class=\"dataframe\">\n",
       "  <thead>\n",
       "    <tr style=\"text-align: right;\">\n",
       "      <th></th>\n",
       "      <th>time</th>\n",
       "      <th>length</th>\n",
       "    </tr>\n",
       "  </thead>\n",
       "  <tbody>\n",
       "    <tr>\n",
       "      <th>0</th>\n",
       "      <td>33</td>\n",
       "      <td>-4</td>\n",
       "    </tr>\n",
       "    <tr>\n",
       "      <th>1</th>\n",
       "      <td>36</td>\n",
       "      <td>26</td>\n",
       "    </tr>\n",
       "    <tr>\n",
       "      <th>2</th>\n",
       "      <td>37</td>\n",
       "      <td>56</td>\n",
       "    </tr>\n",
       "    <tr>\n",
       "      <th>3</th>\n",
       "      <td>39</td>\n",
       "      <td>80</td>\n",
       "    </tr>\n",
       "    <tr>\n",
       "      <th>4</th>\n",
       "      <td>46</td>\n",
       "      <td>105</td>\n",
       "    </tr>\n",
       "    <tr>\n",
       "      <th>5</th>\n",
       "      <td>55</td>\n",
       "      <td>130</td>\n",
       "    </tr>\n",
       "  </tbody>\n",
       "</table>\n",
       "</div>"
      ],
      "text/plain": [
       "   time  length\n",
       "0    33      -4\n",
       "1    36      26\n",
       "2    37      56\n",
       "3    39      80\n",
       "4    46     105\n",
       "5    55     130"
      ]
     },
     "execution_count": 20,
     "metadata": {},
     "output_type": "execute_result"
    }
   ],
   "source": [
    "#Assingn coordinates of initial centoids\n",
    "time=[33,36,37,39,46,55]\n",
    "length=[-4,26,56,80,105,130]\n",
    "guess_centroids= pd.DataFrame(list(zip(time, length)),columns =['time', 'length'])\n",
    "guess_centroids"
   ]
  },
  {
   "cell_type": "markdown",
   "id": "satisfied-minority",
   "metadata": {},
   "source": [
    "Now, that we assigend the coordinates for the initial cluster centroids, let's perform the steps **2** - **4** of the algorithm."
   ]
  },
  {
   "cell_type": "code",
   "execution_count": 21,
   "id": "aware-translation",
   "metadata": {},
   "outputs": [
    {
     "name": "stdout",
     "output_type": "stream",
     "text": [
      "2.064435672369364\n",
      "0.23843202962048338\n",
      "0.06802377513523084\n",
      "0.0\n"
     ]
    }
   ],
   "source": [
    "Centroids=centroids(6,unfold1,guess_centroids)"
   ]
  },
  {
   "cell_type": "code",
   "execution_count": 22,
   "id": "considered-module",
   "metadata": {},
   "outputs": [
    {
     "data": {
      "image/png": "[encoded data removed]",
      "text/plain": [
       "<Figure size 432x288 with 1 Axes>"
      ]
     },
     "metadata": {
      "needs_background": "light"
     },
     "output_type": "display_data"
    }
   ],
   "source": [
    "plot_clusters(6,unfold1,Centroids)"
   ]
  },
  {
   "cell_type": "markdown",
   "id": "dutch-spouse",
   "metadata": {},
   "source": [
    "Wow, by assigning approximate initial coordinates of the centroids, the K-means algorithm was able to correctly define\n",
    "the 6 clusters corresponding to different reaction steps.\n",
    "\n",
    "Let's look at the obtained centroid coordinates and estimate the sizes of each reaction step."
   ]
  },
  {
   "cell_type": "code",
   "execution_count": 23,
   "id": "constitutional-crazy",
   "metadata": {},
   "outputs": [
    {
     "data": {
      "text/html": [
       "<div>\n",
       "<style scoped>\n",
       "    .dataframe tbody tr th:only-of-type {\n",
       "        vertical-align: middle;\n",
       "    }\n",
       "\n",
       "    .dataframe tbody tr th {\n",
       "        vertical-align: top;\n",
       "    }\n",
       "\n",
       "    .dataframe thead th {\n",
       "        text-align: right;\n",
       "    }\n",
       "</style>\n",
       "<table border=\"1\" class=\"dataframe\">\n",
       "  <thead>\n",
       "    <tr style=\"text-align: right;\">\n",
       "      <th></th>\n",
       "      <th>length</th>\n",
       "      <th>time</th>\n",
       "    </tr>\n",
       "    <tr>\n",
       "      <th>Cluster</th>\n",
       "      <th></th>\n",
       "      <th></th>\n",
       "    </tr>\n",
       "  </thead>\n",
       "  <tbody>\n",
       "    <tr>\n",
       "      <th>1</th>\n",
       "      <td>-4.489383</td>\n",
       "      <td>33.643408</td>\n",
       "    </tr>\n",
       "    <tr>\n",
       "      <th>2</th>\n",
       "      <td>33.733848</td>\n",
       "      <td>35.237083</td>\n",
       "    </tr>\n",
       "    <tr>\n",
       "      <th>3</th>\n",
       "      <td>57.509967</td>\n",
       "      <td>36.367127</td>\n",
       "    </tr>\n",
       "    <tr>\n",
       "      <th>4</th>\n",
       "      <td>80.613796</td>\n",
       "      <td>38.888454</td>\n",
       "    </tr>\n",
       "    <tr>\n",
       "      <th>5</th>\n",
       "      <td>105.703881</td>\n",
       "      <td>45.593464</td>\n",
       "    </tr>\n",
       "    <tr>\n",
       "      <th>6</th>\n",
       "      <td>131.032345</td>\n",
       "      <td>55.594710</td>\n",
       "    </tr>\n",
       "  </tbody>\n",
       "</table>\n",
       "</div>"
      ],
      "text/plain": [
       "             length       time\n",
       "Cluster                       \n",
       "1         -4.489383  33.643408\n",
       "2         33.733848  35.237083\n",
       "3         57.509967  36.367127\n",
       "4         80.613796  38.888454\n",
       "5        105.703881  45.593464\n",
       "6        131.032345  55.594710"
      ]
     },
     "execution_count": 23,
     "metadata": {},
     "output_type": "execute_result"
    }
   ],
   "source": [
    "Centroids"
   ]
  },
  {
   "cell_type": "markdown",
   "id": "universal-grill",
   "metadata": {},
   "source": [
    "Knowing the length coordinate of each cluster centroid we can estimate the size of ech step.\n",
    "\n",
    "We can see that the length of the molecule due to the initial extension changed by around 37 nanometers (from the blue to\n",
    "the green cluster). \n",
    "\n",
    "Then, the first domain unfolded, and the molecule's length changed from 33.7 nm to 57.5 nm (from the green cluster to \n",
    "the cyan cluster) so the size of the step was 23.5 nanometers. Afterwards, the second domain unfolded (change form the cyan to the black\n",
    "cluster) with the step size of 80.6 - 57.5 = 23.1 nanometers (the same size as the previous step). Then, the third domain unfolded (change\n",
    "from the black cluster to the orange one) changing the molecule's length by 105.7 - 80.6 = 25.1 nanometers. Finally, the fourth and the\n",
    "last domain unfolded changing the molecule's length from 105.7 nm to around 131 nm (by 25.3 nanometers).\n",
    "\n",
    "As you can see, with the K-means clustering algorithm with manually selected initial cluster centroids, we were able to precisely identify different unfolding reaction steps."
   ]
  },
  {
   "cell_type": "markdown",
   "id": "activated-genealogy",
   "metadata": {},
   "source": [
    "\n",
    "\n",
    "Just for fun, let's now perform the K-mean clustering using the scikit-learn library!"
   ]
  },
  {
   "cell_type": "markdown",
   "id": "competent-quilt",
   "metadata": {},
   "source": [
    "## K-Means Clustering with scikit-learn"
   ]
  },
  {
   "cell_type": "markdown",
   "id": "accepting-leave",
   "metadata": {},
   "source": [
    "Let's perform the K-means clustering of the refolding data."
   ]
  },
  {
   "cell_type": "code",
   "execution_count": 24,
   "id": "charming-companion",
   "metadata": {},
   "outputs": [],
   "source": [
    "# importing required libraries\n",
    "import pandas as pd\n",
    "import numpy as np\n",
    "import matplotlib.pyplot as plt\n",
    "%matplotlib inline\n",
    "from sklearn.cluster import KMeans"
   ]
  },
  {
   "cell_type": "markdown",
   "id": "computational-dance",
   "metadata": {},
   "source": [
    "First, we need to bring all the variables to the same magnitude."
   ]
  },
  {
   "cell_type": "code",
   "execution_count": 25,
   "id": "useful-postage",
   "metadata": {},
   "outputs": [
    {
     "data": {
      "text/html": [
       "<div>\n",
       "<style scoped>\n",
       "    .dataframe tbody tr th:only-of-type {\n",
       "        vertical-align: middle;\n",
       "    }\n",
       "\n",
       "    .dataframe tbody tr th {\n",
       "        vertical-align: top;\n",
       "    }\n",
       "\n",
       "    .dataframe thead th {\n",
       "        text-align: right;\n",
       "    }\n",
       "</style>\n",
       "<table border=\"1\" class=\"dataframe\">\n",
       "  <thead>\n",
       "    <tr style=\"text-align: right;\">\n",
       "      <th></th>\n",
       "      <th>0</th>\n",
       "      <th>1</th>\n",
       "      <th>2</th>\n",
       "    </tr>\n",
       "  </thead>\n",
       "  <tbody>\n",
       "    <tr>\n",
       "      <th>count</th>\n",
       "      <td>1.373000e+03</td>\n",
       "      <td>1.373000e+03</td>\n",
       "      <td>1.373000e+03</td>\n",
       "    </tr>\n",
       "    <tr>\n",
       "      <th>mean</th>\n",
       "      <td>6.624142e-16</td>\n",
       "      <td>8.280178e-17</td>\n",
       "      <td>-5.796124e-16</td>\n",
       "    </tr>\n",
       "    <tr>\n",
       "      <th>std</th>\n",
       "      <td>1.000364e+00</td>\n",
       "      <td>1.000364e+00</td>\n",
       "      <td>1.000364e+00</td>\n",
       "    </tr>\n",
       "    <tr>\n",
       "      <th>min</th>\n",
       "      <td>-1.721885e+00</td>\n",
       "      <td>-1.443994e+00</td>\n",
       "      <td>-4.428009e-01</td>\n",
       "    </tr>\n",
       "    <tr>\n",
       "      <th>25%</th>\n",
       "      <td>-8.600403e-01</td>\n",
       "      <td>-8.515358e-01</td>\n",
       "      <td>-4.381299e-01</td>\n",
       "    </tr>\n",
       "    <tr>\n",
       "      <th>50%</th>\n",
       "      <td>1.883829e-04</td>\n",
       "      <td>-1.873029e-01</td>\n",
       "      <td>-4.362695e-01</td>\n",
       "    </tr>\n",
       "    <tr>\n",
       "      <th>75%</th>\n",
       "      <td>8.579926e-01</td>\n",
       "      <td>6.552682e-01</td>\n",
       "      <td>-4.334491e-01</td>\n",
       "    </tr>\n",
       "    <tr>\n",
       "      <th>max</th>\n",
       "      <td>1.739849e+00</td>\n",
       "      <td>2.123277e+00</td>\n",
       "      <td>2.295761e+00</td>\n",
       "    </tr>\n",
       "  </tbody>\n",
       "</table>\n",
       "</div>"
      ],
      "text/plain": [
       "                  0             1             2\n",
       "count  1.373000e+03  1.373000e+03  1.373000e+03\n",
       "mean   6.624142e-16  8.280178e-17 -5.796124e-16\n",
       "std    1.000364e+00  1.000364e+00  1.000364e+00\n",
       "min   -1.721885e+00 -1.443994e+00 -4.428009e-01\n",
       "25%   -8.600403e-01 -8.515358e-01 -4.381299e-01\n",
       "50%    1.883829e-04 -1.873029e-01 -4.362695e-01\n",
       "75%    8.579926e-01  6.552682e-01 -4.334491e-01\n",
       "max    1.739849e+00  2.123277e+00  2.295761e+00"
      ]
     },
     "execution_count": 25,
     "metadata": {},
     "output_type": "execute_result"
    }
   ],
   "source": [
    "# standardizing the data\n",
    "from sklearn.preprocessing import StandardScaler\n",
    "scaler = StandardScaler()\n",
    "refold1=trace[(trace.time>75)&(trace.time<84)]\n",
    "data_scaled = scaler.fit_transform(refold1)\n",
    "\n",
    "# statistics of scaled data\n",
    "pd.DataFrame(data_scaled).describe()"
   ]
  },
  {
   "cell_type": "markdown",
   "id": "fitting-orbit",
   "metadata": {},
   "source": [
    "A random initialization of the centroids can be problematic because we might get different clusters every time.\n",
    "\n",
    "So, to solve this problem of random initialization, there is an algorithm called K-Means++ that can be used to choose the initial values, or the initial cluster centroids, for K-Means."
   ]
  },
  {
   "cell_type": "markdown",
   "id": "induced-disease",
   "metadata": {},
   "source": [
    "Let’s set the number of clusters as 6 and fit the model."
   ]
  },
  {
   "cell_type": "code",
   "execution_count": 26,
   "id": "acoustic-fruit",
   "metadata": {},
   "outputs": [
    {
     "data": {
      "text/html": [
       "<style>#sk-container-id-1 {color: black;background-color: white;}#sk-container-id-1 pre{padding: 0;}#sk-container-id-1 div.sk-toggleable {background-color: white;}#sk-container-id-1 label.sk-toggleable__label {cursor: pointer;display: block;width: 100%;margin-bottom: 0;padding: 0.3em;box-sizing: border-box;text-align: center;}#sk-container-id-1 label.sk-toggleable__label-arrow:before {content: \"▸\";float: left;margin-right: 0.25em;color: #696969;}#sk-container-id-1 label.sk-toggleable__label-arrow:hover:before {color: black;}#sk-container-id-1 div.sk-estimator:hover label.sk-toggleable__label-arrow:before {color: black;}#sk-container-id-1 div.sk-toggleable__content {max-height: 0;max-width: 0;overflow: hidden;text-align: left;background-color: #f0f8ff;}#sk-container-id-1 div.sk-toggleable__content pre {margin: 0.2em;color: black;border-radius: 0.25em;background-color: #f0f8ff;}#sk-container-id-1 input.sk-toggleable__control:checked~div.sk-toggleable__content {max-height: 200px;max-width: 100%;overflow: auto;}#sk-container-id-1 input.sk-toggleable__control:checked~label.sk-toggleable__label-arrow:before {content: \"▾\";}#sk-container-id-1 div.sk-estimator input.sk-toggleable__control:checked~label.sk-toggleable__label {background-color: #d4ebff;}#sk-container-id-1 div.sk-label input.sk-toggleable__control:checked~label.sk-toggleable__label {background-color: #d4ebff;}#sk-container-id-1 input.sk-hidden--visually {border: 0;clip: rect(1px 1px 1px 1px);clip: rect(1px, 1px, 1px, 1px);height: 1px;margin: -1px;overflow: hidden;padding: 0;position: absolute;width: 1px;}#sk-container-id-1 div.sk-estimator {font-family: monospace;background-color: #f0f8ff;border: 1px dotted black;border-radius: 0.25em;box-sizing: border-box;margin-bottom: 0.5em;}#sk-container-id-1 div.sk-estimator:hover {background-color: #d4ebff;}#sk-container-id-1 div.sk-parallel-item::after {content: \"\";width: 100%;border-bottom: 1px solid gray;flex-grow: 1;}#sk-container-id-1 div.sk-label:hover label.sk-toggleable__label {background-color: #d4ebff;}#sk-container-id-1 div.sk-serial::before {content: \"\";position: absolute;border-left: 1px solid gray;box-sizing: border-box;top: 0;bottom: 0;left: 50%;z-index: 0;}#sk-container-id-1 div.sk-serial {display: flex;flex-direction: column;align-items: center;background-color: white;padding-right: 0.2em;padding-left: 0.2em;position: relative;}#sk-container-id-1 div.sk-item {position: relative;z-index: 1;}#sk-container-id-1 div.sk-parallel {display: flex;align-items: stretch;justify-content: center;background-color: white;position: relative;}#sk-container-id-1 div.sk-item::before, #sk-container-id-1 div.sk-parallel-item::before {content: \"\";position: absolute;border-left: 1px solid gray;box-sizing: border-box;top: 0;bottom: 0;left: 50%;z-index: -1;}#sk-container-id-1 div.sk-parallel-item {display: flex;flex-direction: column;z-index: 1;position: relative;background-color: white;}#sk-container-id-1 div.sk-parallel-item:first-child::after {align-self: flex-end;width: 50%;}#sk-container-id-1 div.sk-parallel-item:last-child::after {align-self: flex-start;width: 50%;}#sk-container-id-1 div.sk-parallel-item:only-child::after {width: 0;}#sk-container-id-1 div.sk-dashed-wrapped {border: 1px dashed gray;margin: 0 0.4em 0.5em 0.4em;box-sizing: border-box;padding-bottom: 0.4em;background-color: white;}#sk-container-id-1 div.sk-label label {font-family: monospace;font-weight: bold;display: inline-block;line-height: 1.2em;}#sk-container-id-1 div.sk-label-container {text-align: center;}#sk-container-id-1 div.sk-container {/* jupyter's `normalize.less` sets `[hidden] { display: none; }` but bootstrap.min.css set `[hidden] { display: none !important; }` so we also need the `!important` here to be able to override the default hidden behavior on the sphinx rendered scikit-learn.org. See: https://github.com/scikit-learn/scikit-learn/issues/21755 */display: inline-block !important;position: relative;}#sk-container-id-1 div.sk-text-repr-fallback {display: none;}</style><div id=\"sk-container-id-1\" class=\"sk-top-container\"><div class=\"sk-text-repr-fallback\"><pre>KMeans(n_clusters=6)</pre><b>In a Jupyter environment, please rerun this cell to show the HTML representation or trust the notebook. <br />On GitHub, the HTML representation is unable to render, please try loading this page with nbviewer.org.</b></div><div class=\"sk-container\" hidden><div class=\"sk-item\"><div class=\"sk-estimator sk-toggleable\"><input class=\"sk-toggleable__control sk-hidden--visually\" id=\"sk-estimator-id-1\" type=\"checkbox\" checked><label for=\"sk-estimator-id-1\" class=\"sk-toggleable__label sk-toggleable__label-arrow\">KMeans</label><div class=\"sk-toggleable__content\"><pre>KMeans(n_clusters=6)</pre></div></div></div></div></div>"
      ],
      "text/plain": [
       "KMeans(n_clusters=6)"
      ]
     },
     "execution_count": 26,
     "metadata": {},
     "output_type": "execute_result"
    }
   ],
   "source": [
    "# defining the kmeans function with initialization as k-means++\n",
    "kmeans = KMeans(n_clusters=6, init='k-means++')\n",
    "\n",
    "# fitting the k means algorithm on scaled data\n",
    "kmeans.fit(data_scaled)"
   ]
  },
  {
   "cell_type": "markdown",
   "id": "gross-superior",
   "metadata": {},
   "source": [
    "We have fitted the model. Let’s now evaluate how well the obtained clusters are. \n",
    "To do that, we will calculate the inertia of the clusters: inertia estimates how far the points within a cluster are.\n",
    "So, inertia actually calculates the sum of distances of all the points within a cluster from the centroid of that cluster."
   ]
  },
  {
   "cell_type": "code",
   "execution_count": 27,
   "id": "selected-recall",
   "metadata": {},
   "outputs": [
    {
     "data": {
      "text/plain": [
       "86.73172482770934"
      ]
     },
     "execution_count": 27,
     "metadata": {},
     "output_type": "execute_result"
    }
   ],
   "source": [
    "# inertia on the fitted data\n",
    "kmeans.inertia_"
   ]
  },
  {
   "cell_type": "markdown",
   "id": "entitled-payment",
   "metadata": {},
   "source": [
    "We can plot the values of Intertia we will obtain with the model for different number of clusters.\n",
    "The optimal value of Inertia is the value corresponding to the 'elbow' of the graph"
   ]
  },
  {
   "cell_type": "code",
   "execution_count": 28,
   "id": "agricultural-helicopter",
   "metadata": {},
   "outputs": [
    {
     "data": {
      "text/plain": [
       "Text(0, 0.5, 'Inertia')"
      ]
     },
     "execution_count": 28,
     "metadata": {},
     "output_type": "execute_result"
    },
    {
     "data": {
      "image/png": "[encoded data removed]",
      "text/plain": [
       "<Figure size 864x432 with 1 Axes>"
      ]
     },
     "metadata": {
      "needs_background": "light"
     },
     "output_type": "display_data"
    }
   ],
   "source": [
    "# fitting multiple k-means algorithms and storing the values in an empty list\n",
    "SSE = []\n",
    "for cluster in range(1,20):\n",
    "    kmeans = KMeans(n_clusters = cluster, init='k-means++')\n",
    "    kmeans.fit(data_scaled)\n",
    "    SSE.append(kmeans.inertia_)\n",
    "\n",
    "# converting the results into a dataframe and plotting them\n",
    "frame = pd.DataFrame({'Cluster':range(1,20), 'SSE':SSE})\n",
    "plt.figure(figsize=(12,6))\n",
    "plt.plot(frame['Cluster'], frame['SSE'], marker='o',lw=2)\n",
    "plt.xlabel('Number of clusters')\n",
    "plt.ylabel('Inertia')"
   ]
  },
  {
   "cell_type": "markdown",
   "id": "grand-guitar",
   "metadata": {},
   "source": [
    "We can see that the optimal number of clusters (the elbow point) would be 4 or 5. However, based on our knowledge of the\n",
    "reaction process, we know that there should be six clusters in our data."
   ]
  },
  {
   "cell_type": "markdown",
   "id": "played-disney",
   "metadata": {},
   "source": [
    "Let's fit the model again and check out the resulting clusters."
   ]
  },
  {
   "cell_type": "code",
   "execution_count": 29,
   "id": "excess-karaoke",
   "metadata": {},
   "outputs": [],
   "source": [
    "# k means using 5 clusters and k-means++ initialization\n",
    "kmeans = KMeans(n_clusters = 6, init='k-means++')\n",
    "kmeans.fit(data_scaled)\n",
    "pred = kmeans.predict(data_scaled)"
   ]
  },
  {
   "cell_type": "markdown",
   "id": "current-friday",
   "metadata": {},
   "source": [
    "We store the predicted clusters in the variablle pred and we add the predictions in the column 'cluster' to thec data frame\n",
    "with the refolding cluster."
   ]
  },
  {
   "cell_type": "code",
   "execution_count": 30,
   "id": "documented-confirmation",
   "metadata": {},
   "outputs": [
    {
     "data": {
      "text/plain": [
       "1    321\n",
       "0    279\n",
       "4    250\n",
       "2    220\n",
       "3    166\n",
       "5    137\n",
       "Name: cluster, dtype: int64"
      ]
     },
     "execution_count": 30,
     "metadata": {},
     "output_type": "execute_result"
    }
   ],
   "source": [
    "refold1['cluster'] = pred\n",
    "refold1['cluster'].value_counts()"
   ]
  },
  {
   "cell_type": "markdown",
   "id": "practical-recipe",
   "metadata": {},
   "source": [
    "Let's now visualize the obtained clusters."
   ]
  },
  {
   "cell_type": "code",
   "execution_count": 31,
   "id": "wooden-house",
   "metadata": {},
   "outputs": [
    {
     "data": {
      "image/png": "[encoded data removed]",
      "text/plain": [
       "<Figure size 432x288 with 1 Axes>"
      ]
     },
     "metadata": {
      "needs_background": "light"
     },
     "output_type": "display_data"
    }
   ],
   "source": [
    "# plot clusters\n",
    "color=['blue','green','cyan','black','orange','purple']\n",
    "K=6\n",
    "for k in range(K):\n",
    "    data=refold1[refold1[\"cluster\"]==k]\n",
    "    plt.scatter(data[\"time\"],data[\"length\"],c=color[k])   \n",
    "plt.xlabel('time (s)')\n",
    "plt.ylabel('length (nm)')\n",
    "plt.show()"
   ]
  },
  {
   "cell_type": "markdown",
   "id": "miniature-iceland",
   "metadata": {},
   "source": [
    "As we can see that the clusters have different amounts of points, from 137 for the cluster 4 (the purple) to\n",
    "321 points in the cluster 2 (the cyan cluster)"
   ]
  },
  {
   "cell_type": "markdown",
   "id": "invisible-harvest",
   "metadata": {},
   "source": [
    "In conclusion, we used K-means clustering to identify different steps in the molecule unfolding and refolding reactions.\n",
    "This approach can be used to analyze the data from other different reactions in which the length of the molecule changes in time,\n",
    "e.g., DNA polymerization reaction."
   ]
  }
 ],
 "metadata": {
  "kernelspec": {
   "display_name": "Python 3",
   "language": "python",
   "name": "python3"
  },
  "language_info": {
   "codemirror_mode": {
    "name": "ipython",
    "version": 3
   },
   "file_extension": ".py",
   "mimetype": "text/x-python",
   "name": "python",
   "nbconvert_exporter": "python",
   "pygments_lexer": "ipython3",
   "version": "3.9.2"
  }
 },
 "nbformat": 4,
 "nbformat_minor": 5
}
